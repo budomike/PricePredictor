{
 "cells": [
  {
   "cell_type": "code",
   "execution_count": 7,
   "id": "bfccbcc9-d4de-406a-b35f-a02bf7130729",
   "metadata": {},
   "outputs": [],
   "source": [
    "import warnings\n",
    "warnings.filterwarnings('ignore')\n",
    "import numpy as np\n",
    "import pandas as pd\n",
    "import matplotlib.pyplot as plt\n",
    "import seaborn as sns\n",
    "import ipywidgets as widgets\n",
    "from IPython.display import display\n",
    "%matplotlib inline"
   ]
  },
  {
   "cell_type": "code",
   "execution_count": 8,
   "id": "b333e43b-a2a7-4b1c-b3a5-2a4be3ce61ea",
   "metadata": {},
   "outputs": [],
   "source": [
    "url = (\"https://raw.githubusercontent.com/budomike/C964Dataset/main/housing_price_dataset.csv\")\n",
    "df = pd.read_csv(url)\n",
    "# Create dummy variables for the \"Neighborhood\" column\n",
    "df = pd.get_dummies(df, columns=[\"Neighborhood\"], drop_first=False)\n",
    "df['Neighborhood_Rural'] = df['Neighborhood_Rural'].astype(int)\n",
    "df['Neighborhood_Suburb'] = df['Neighborhood_Suburb'].astype(int)\n",
    "df['Neighborhood_Urban'] = df['Neighborhood_Urban'].astype(int)"
   ]
  },
  {
   "cell_type": "code",
   "execution_count": 9,
   "id": "0cbda865-f41b-47bd-affe-e1d051c7a5be",
   "metadata": {},
   "outputs": [],
   "source": [
    "# Calculate the IQR for 'Price'\n",
    "Q1 = df['Price'].quantile(0.25)\n",
    "Q3 = df['Price'].quantile(0.75)\n",
    "IQR = Q3 - Q1\n",
    "\n",
    "# Define the lower and upper bounds for outliers\n",
    "lower_bound = Q1 - 1.5 * IQR\n",
    "upper_bound = Q3 + 1.5 * IQR\n",
    "\n",
    "# Identify outliers\n",
    "outliers = (df['Price'] < lower_bound) | (df['Price'] > upper_bound)\n",
    "\n",
    "# Remove outliers\n",
    "df_no_outliers = df[~outliers]\n",
    "\n",
    "df_shape = df\n",
    "df_no_outliers_shape = df_no_outliers"
   ]
  },
  {
   "cell_type": "code",
   "execution_count": 10,
   "id": "58c08286-a34d-4f23-8a1c-dccd9e75586b",
   "metadata": {},
   "outputs": [],
   "source": [
    "from sklearn.model_selection import train_test_split\n",
    "from sklearn.linear_model import LinearRegression\n",
    "from sklearn.metrics import mean_absolute_error, r2_score\n",
    "from sklearn.preprocessing import StandardScaler, OneHotEncoder, MinMaxScaler\n",
    "from sklearn.compose import ColumnTransformer\n",
    "from sklearn.pipeline import Pipeline\n",
    "\n",
    "# Define features and target variable\n",
    "X = df_no_outliers.drop(\"Price\", axis=1)\n",
    "y = df_no_outliers[\"Price\"]\n",
    "\n",
    "categorical_features = ['Neighborhood_Rural', 'Neighborhood_Suburb', 'Neighborhood_Urban']\n",
    "numeric_features = X.select_dtypes(include=['float64', 'int64']).columns\n",
    "\n",
    "# Create preprocessing pipeline\n",
    "preprocessor = ColumnTransformer(\n",
    "    transformers=[\n",
    "        ('num', StandardScaler(), numeric_features),\n",
    "        ('cat', OneHotEncoder(), categorical_features)\n",
    "    ],\n",
    "    remainder='passthrough'\n",
    ")\n",
    "\n",
    "# Create linear regression model\n",
    "model = LinearRegression()\n",
    "\n",
    "# Create a pipeline that applies preprocessing and then fits the model\n",
    "pipeline = Pipeline([\n",
    "    ('preprocessor', preprocessor),\n",
    "    ('model', model)\n",
    "])\n",
    "\n",
    "# Split the data into training and testing sets\n",
    "X_train, X_test, y_train, y_test = train_test_split(X, y, test_size=0.3, random_state=42)\n",
    "\n",
    "# Fit the pipeline on the training data\n",
    "pipeline.fit(X_train, y_train)\n",
    "\n",
    "# Make predictions on the testing data\n",
    "y_pred = pipeline.predict(X_test)"
   ]
  },
  {
   "cell_type": "code",
   "execution_count": 13,
   "id": "4aafc008-713e-4a23-965a-f79d94b5bae4",
   "metadata": {
    "scrolled": true
   },
   "outputs": [
    {
     "data": {
      "application/vnd.jupyter.widget-view+json": {
       "model_id": "fa1052ee7982486882aeb9e5d15d2fcf",
       "version_major": 2,
       "version_minor": 0
      },
      "text/plain": [
       "IntSlider(value=2000, description='Square Feet:', max=5000)"
      ]
     },
     "metadata": {},
     "output_type": "display_data"
    },
    {
     "data": {
      "application/vnd.jupyter.widget-view+json": {
       "model_id": "5554bc1588c94aebbe8c8b8b39fa3e1a",
       "version_major": 2,
       "version_minor": 0
      },
      "text/plain": [
       "IntSlider(value=3, description='Bedrooms:', max=10)"
      ]
     },
     "metadata": {},
     "output_type": "display_data"
    },
    {
     "data": {
      "application/vnd.jupyter.widget-view+json": {
       "model_id": "7a56f29644b64d7586d571b4064cc970",
       "version_major": 2,
       "version_minor": 0
      },
      "text/plain": [
       "IntSlider(value=2, description='Bathrooms:', max=5)"
      ]
     },
     "metadata": {},
     "output_type": "display_data"
    },
    {
     "data": {
      "application/vnd.jupyter.widget-view+json": {
       "model_id": "293734d566894f9db17485405d1c026e",
       "version_major": 2,
       "version_minor": 0
      },
      "text/plain": [
       "Dropdown(description='Neighborhood:', options=('Rural', 'Suburb', 'Urban'), value='Rural')"
      ]
     },
     "metadata": {},
     "output_type": "display_data"
    },
    {
     "data": {
      "application/vnd.jupyter.widget-view+json": {
       "model_id": "319d5a9d029d40cf8ad35f70ecb86f4e",
       "version_major": 2,
       "version_minor": 0
      },
      "text/plain": [
       "IntSlider(value=2000, description='Year Built:', max=2023, min=1900)"
      ]
     },
     "metadata": {},
     "output_type": "display_data"
    },
    {
     "data": {
      "application/vnd.jupyter.widget-view+json": {
       "model_id": "65a56c0659a04b0cb0d55d9b559f2fdc",
       "version_major": 2,
       "version_minor": 0
      },
      "text/plain": [
       "Button(description='Predict Price', style=ButtonStyle())"
      ]
     },
     "metadata": {},
     "output_type": "display_data"
    },
    {
     "data": {
      "application/vnd.jupyter.widget-view+json": {
       "model_id": "ad07013469094b788090d3160b20d126",
       "version_major": 2,
       "version_minor": 0
      },
      "text/plain": [
       "Button(description='Heatmap', style=ButtonStyle())"
      ]
     },
     "metadata": {},
     "output_type": "display_data"
    },
    {
     "data": {
      "application/vnd.jupyter.widget-view+json": {
       "model_id": "e32fa8040eaf42daa5592ef7143f2413",
       "version_major": 2,
       "version_minor": 0
      },
      "text/plain": [
       "Button(description='Residuals', style=ButtonStyle())"
      ]
     },
     "metadata": {},
     "output_type": "display_data"
    },
    {
     "data": {
      "application/vnd.jupyter.widget-view+json": {
       "model_id": "b4f9e5bf92a74f26832eeddac7e78c7c",
       "version_major": 2,
       "version_minor": 0
      },
      "text/plain": [
       "Button(description='Outliers', style=ButtonStyle())"
      ]
     },
     "metadata": {},
     "output_type": "display_data"
    },
    {
     "data": {
      "application/vnd.jupyter.widget-view+json": {
       "model_id": "2f2edf0a033646008d1ae5981b30eff3",
       "version_major": 2,
       "version_minor": 0
      },
      "text/plain": [
       "Button(description='Accuracy Metrics', style=ButtonStyle())"
      ]
     },
     "metadata": {},
     "output_type": "display_data"
    },
    {
     "data": {
      "application/vnd.jupyter.widget-view+json": {
       "model_id": "3fe1cf7ee7c1406da4586db162c36255",
       "version_major": 2,
       "version_minor": 0
      },
      "text/plain": [
       "Output()"
      ]
     },
     "metadata": {},
     "output_type": "display_data"
    }
   ],
   "source": [
    "import ipywidgets as widgets\n",
    "from IPython.display import display\n",
    "\n",
    "output = widgets.Output()\n",
    "residuals = y_test - y_pred\n",
    "# Function to make predictions based on user input\n",
    "def predict_price(square_feet, bedrooms, bathrooms, neighborhood, year_built):\n",
    "    # Convert neighborhood input to dummy variables\n",
    "    neighborhoods = [\"Rural\", \"Suburb\", \"Urban\"]\n",
    "    neighborhood_values = [1 if neighborhood == n else 0 for n in neighborhoods]\n",
    "\n",
    "    # Create a DataFrame with user input\n",
    "    new_data = pd.DataFrame({\n",
    "        \"SquareFeet\": [square_feet],\n",
    "        \"Bedrooms\": [bedrooms],\n",
    "        \"Bathrooms\": [bathrooms],\n",
    "        \"Neighborhood_Rural\": [neighborhood_values[0]],\n",
    "        \"Neighborhood_Suburb\": [neighborhood_values[1]],\n",
    "        \"Neighborhood_Urban\": [neighborhood_values[2]],\n",
    "        \"YearBuilt\": [year_built]\n",
    "    })\n",
    "\n",
    "    # Make prediction\n",
    "    prediction_array = pipeline.predict(new_data)\n",
    "    print(f\"The predicted price of this house is: ${prediction_array[0]:.0f}\")\n",
    "    \n",
    "\n",
    "# Create input widgets\n",
    "square_feet_input = widgets.IntSlider(description=\"Square Feet:\", min=0, max=5000, value=2000)\n",
    "bedrooms_input = widgets.IntSlider(description=\"Bedrooms:\", min=0, max=10, value=3)\n",
    "bathrooms_input = widgets.IntSlider(description=\"Bathrooms:\", min=0, max=5, value=2)\n",
    "neighborhood_input = widgets.Dropdown(description=\"Neighborhood:\", options=[\"Rural\", \"Suburb\", \"Urban\"], value=\"Rural\")\n",
    "year_built_input = widgets.IntSlider(description=\"Year Built:\", min=1900, max=2023, value=2000)\n",
    "\n",
    "# Create a button to trigger predictions\n",
    "predict_button = widgets.Button(description=\"Predict Price\")\n",
    "heatmap_button = widgets.Button(description=\"Heatmap\")\n",
    "histogram_button = widgets.Button(description=\"Residuals\")\n",
    "outliers_button = widgets.Button(description=\"Outliers\")\n",
    "rep_button = widgets.Button(description=\"Accuracy Metrics\")\n",
    "\n",
    "# Define callback function for button click\n",
    "def on_predict_button_click(b):\n",
    "    # Get values from input widgets\n",
    "    square_feet = square_feet_input.value\n",
    "    bedrooms = bedrooms_input.value\n",
    "    bathrooms = bathrooms_input.value\n",
    "    neighborhood = neighborhood_input.value\n",
    "    year_built = year_built_input.value\n",
    "\n",
    "    # Call prediction function\n",
    "    with output:\n",
    "        # Clear previous output\n",
    "        output.clear_output(wait=True)\n",
    "        \n",
    "        # Call the prediction function\n",
    "        predict_price(square_feet, bedrooms, bathrooms, neighborhood, year_built)\n",
    "\n",
    "def on_heatmap_button_click(b):\n",
    "    with output:\n",
    "        output.clear_output(wait=True)\n",
    "        plt.figure(figsize=(10, 8))\n",
    "        sns.heatmap(df.corr(), annot=True, cmap=\"YlGnBu\", fmt=\".2f\", linewidths=0.5)\n",
    "        plt.title(\"Correlation Heatmap\")\n",
    "        plt.xticks(rotation=45)\n",
    "        plt.show()\n",
    "\n",
    "def on_histogram_button_click(b):\n",
    "    with output:\n",
    "        output.clear_output(wait=True)\n",
    "        plt.figure(figsize=(10, 6))\n",
    "        plt.hist(residuals, bins=30, edgecolor='black')\n",
    "        plt.title(\"Histogram of Residuals\")\n",
    "        plt.xlabel(\"Residuals\")\n",
    "        plt.ylabel(\"Frequency\")\n",
    "        plt.show()\n",
    "\n",
    "def on_outliers_button_click(b):\n",
    "    with output:\n",
    "        output.clear_output(wait=True)\n",
    "        fig, axs = plt.subplots(2,3, figsize = (15,8))\n",
    "        sns.boxplot(df['Price'], ax=axs[0, 0])\n",
    "        sns.boxplot(df['SquareFeet'], ax=axs[0, 1])\n",
    "        sns.boxplot(df['Bedrooms'], ax=axs[0, 2])\n",
    "        sns.boxplot(df['Bathrooms'], ax=axs[1, 0])\n",
    "        sns.boxplot(df['YearBuilt'], ax=axs[1, 1])\n",
    "\n",
    "        # Plot the boxplot with outliers removed\n",
    "        sns.boxplot(df_no_outliers['Price'], ax=axs[1, 2])\n",
    "        axs[0, 0].set_title('Price Outliers')\n",
    "        axs[0, 1].set_title('Square Feet Outliers')\n",
    "        axs[0, 2].set_title('Bedroom Outliers')\n",
    "        axs[1, 0].set_title('Bathroom Outliers')\n",
    "        axs[1, 1].set_title('Year Built Outliers')\n",
    "        axs[1, 2].set_title('Price Outliers Removed')\n",
    "\n",
    "        plt.show()\n",
    "        print(f'Shape before removing price outliers: {df_shape.shape}')\n",
    "        print(f'Shape after removing price outliers: {df_no_outliers_shape.shape}')\n",
    "\n",
    "def on_rep_button_click(b):\n",
    "    with output:\n",
    "        output.clear_output(wait=True)\n",
    "        mae = mean_absolute_error(y_test, y_pred)\n",
    "        max_price = df_no_outliers['Price'].max()\n",
    "        min_price = df_no_outliers['Price'].min()\n",
    "    \n",
    "        # Calculate the range of the target variable\n",
    "        range_price = max_price - min_price\n",
    "    \n",
    "        # Calculate the relative error percentage\n",
    "        relative_error_percentage = (mae / range_price) * 100\n",
    "        print(f\"Mean Absolute Error: {mae:.2f}\")\n",
    "        print(f\"Relative Error Percentage: {relative_error_percentage:.2f}%\")\n",
    "\n",
    "# Attach the callback function to the button click event\n",
    "predict_button.on_click(on_predict_button_click)\n",
    "heatmap_button.on_click(on_heatmap_button_click)\n",
    "histogram_button.on_click(on_histogram_button_click)\n",
    "outliers_button.on_click(on_outliers_button_click)\n",
    "rep_button.on_click(on_rep_button_click)\n",
    "\n",
    "# Display input widgets and button\n",
    "display(square_feet_input, bedrooms_input, bathrooms_input, neighborhood_input, year_built_input, predict_button, heatmap_button, histogram_button, outliers_button, rep_button, output)"
   ]
  },
  {
   "cell_type": "code",
   "execution_count": null,
   "id": "d131f11e-8e9a-4637-b4bd-aa3e62afb3c1",
   "metadata": {},
   "outputs": [],
   "source": []
  }
 ],
 "metadata": {
  "kernelspec": {
   "display_name": "Python 3 (ipykernel)",
   "language": "python",
   "name": "python3"
  },
  "language_info": {
   "codemirror_mode": {
    "name": "ipython",
    "version": 3
   },
   "file_extension": ".py",
   "mimetype": "text/x-python",
   "name": "python",
   "nbconvert_exporter": "python",
   "pygments_lexer": "ipython3",
   "version": "3.12.1"
  }
 },
 "nbformat": 4,
 "nbformat_minor": 5
}
